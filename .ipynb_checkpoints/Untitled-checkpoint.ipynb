{
 "cells": [
  {
   "cell_type": "markdown",
   "id": "infrared-brighton",
   "metadata": {},
   "source": [
    "## **Recognising Handwritten Digits on MINIST Dataset using KNN**"
   ]
  },
  {
   "cell_type": "code",
   "execution_count": null,
   "id": "little-convert",
   "metadata": {},
   "outputs": [],
   "source": [
    "import pandas as pd\n",
    "import numpy as np\n",
    "import matplotlib.pyplot as plt"
   ]
  },
  {
   "cell_type": "markdown",
   "id": "sealed-plymouth",
   "metadata": {},
   "source": [
    "### **Step 1. Data Preparation**"
   ]
  },
  {
   "cell_type": "code",
   "execution_count": null,
   "id": "dependent-equilibrium",
   "metadata": {},
   "outputs": [],
   "source": [
    "df = pd.read_csv('train.csv')\n",
    "print(df.shape)"
   ]
  },
  {
   "cell_type": "code",
   "execution_count": null,
   "id": "italic-dayton",
   "metadata": {},
   "outputs": [],
   "source": [
    "print(df.columns)"
   ]
  },
  {
   "cell_type": "code",
   "execution_count": null,
   "id": "appreciated-vintage",
   "metadata": {},
   "outputs": [],
   "source": [
    "df.head()"
   ]
  },
  {
   "cell_type": "code",
   "execution_count": null,
   "id": "standard-clone",
   "metadata": {},
   "outputs": [],
   "source": [
    "data = df.values\n",
    "print(data.shape)\n",
    "print(type(data))"
   ]
  },
  {
   "cell_type": "code",
   "execution_count": null,
   "id": "circular-category",
   "metadata": {},
   "outputs": [],
   "source": [
    "X = data[:,1:]\n",
    "Y = data[:,0] #labels\n",
    "print(X.shape,Y.shape)"
   ]
  },
  {
   "cell_type": "code",
   "execution_count": null,
   "id": "engaged-wallet",
   "metadata": {},
   "outputs": [],
   "source": [
    "# dividng data into traing and test\n",
    "split = int(0.8*X.shape[0])\n",
    "print(split)\n",
    "\n",
    "X_train = X[:split,:]\n",
    "Y_train = Y[:split]\n",
    "\n",
    "X_test = X[split:,:]\n",
    "Y_test = Y[split:]\n",
    "\n",
    "print(X_train.shape,Y_train.shape)\n",
    "print(X_test.shape,Y_test.shape)"
   ]
  },
  {
   "cell_type": "code",
   "execution_count": null,
   "id": "hollywood-murray",
   "metadata": {},
   "outputs": [],
   "source": [
    "# Visualise Some Samples\n",
    "\n",
    "def drawImg(sample):\n",
    "    img = sample.reshape(28,-1)\n",
    "    plt.imshow(img,cmap='gray')\n",
    "    plt.show()\n",
    "    \n",
    "drawImg(X_train[3])    \n",
    "print(Y_train[3])"
   ]
  },
  {
   "cell_type": "markdown",
   "id": "choice-characterization",
   "metadata": {},
   "source": [
    "### **Step-2 KNN**"
   ]
  },
  {
   "cell_type": "code",
   "execution_count": null,
   "id": "velvet-tumor",
   "metadata": {},
   "outputs": [],
   "source": [
    "def dist(x1,x2):\n",
    "    return np.sqrt(sum((x1-x2)**2))\n",
    "\n",
    "def knn(X,Y,queryPoint,k=5): \n",
    "    vals = []\n",
    "    m = X.shape[0]\n",
    "    for i in range(m):\n",
    "        d = dist(queryPoint,X[i])\n",
    "        vals.append([d,Y[i]])      \n",
    "    vals = sorted(vals)\n",
    "\n",
    "    vals = vals[:k]\n",
    "    vals = np.array(vals)\n",
    "#     print(vals)\n",
    "    new_vals = np.unique(vals[:,1],return_counts=True)\n",
    "#     print(\"new_vals\",new_vals)\n",
    "    index = new_vals[1].argmax()\n",
    "#     print(\"index\",index)\n",
    "    pred = new_vals[0][index]\n",
    "    return pred\n"
   ]
  },
  {
   "cell_type": "markdown",
   "id": "sonic-denmark",
   "metadata": {},
   "source": [
    "### **Step-3 Make Predictions**"
   ]
  },
  {
   "cell_type": "code",
   "execution_count": null,
   "id": "medieval-lyric",
   "metadata": {},
   "outputs": [],
   "source": [
    "pred = knn(X_train,Y_train,X_test[3])\n",
    "print(pred)"
   ]
  },
  {
   "cell_type": "code",
   "execution_count": null,
   "id": "communist-friendly",
   "metadata": {},
   "outputs": [],
   "source": [
    "drawImg(X_test[3])"
   ]
  },
  {
   "cell_type": "code",
   "execution_count": null,
   "id": "driving-swimming",
   "metadata": {},
   "outputs": [],
   "source": [
    "\n",
    "\n"
   ]
  },
  {
   "cell_type": "markdown",
   "id": "confused-copying",
   "metadata": {},
   "source": [
    "This algo is going to take time bcz there are lot of examples and this algorithm is going to do lot of computations bcz for each example it is going to compute distance from 33,600 examples and we have 8400 hundred such exaples.\n",
    "\n",
    "- 33,600 > N (no of samples in traing data)\n",
    "- 8400 > Q (no. of samples in testing data)<br>\n",
    "<br>\n",
    "\n",
    "So Complexity is going to be of this order O(NQ)\n",
    "\n",
    "Training time: O(1) #bcz we are not doing not doing any thing in training.\n",
    "\n",
    "it is a non-parametric algorithm"
   ]
  },
  {
   "cell_type": "code",
   "execution_count": null,
   "id": "particular-dating",
   "metadata": {},
   "outputs": [],
   "source": [
    "# Write one method which computes accuraacy of KNN over the test set !\n",
    "\n"
   ]
  },
  {
   "cell_type": "code",
   "execution_count": null,
   "id": "indirect-population",
   "metadata": {},
   "outputs": [],
   "source": []
  },
  {
   "cell_type": "code",
   "execution_count": null,
   "id": "portable-algeria",
   "metadata": {},
   "outputs": [],
   "source": []
  }
 ],
 "metadata": {
  "kernelspec": {
   "display_name": "Python 3",
   "language": "python",
   "name": "python3"
  },
  "language_info": {
   "codemirror_mode": {
    "name": "ipython",
    "version": 3
   },
   "file_extension": ".py",
   "mimetype": "text/x-python",
   "name": "python",
   "nbconvert_exporter": "python",
   "pygments_lexer": "ipython3",
   "version": "3.9.2"
  }
 },
 "nbformat": 4,
 "nbformat_minor": 5
}
